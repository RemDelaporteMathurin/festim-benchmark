{
 "cells": [
  {
   "cell_type": "code",
   "execution_count": 1,
   "metadata": {},
   "outputs": [
    {
     "name": "stderr",
     "output_type": "stream",
     "text": [
      "[lap-mathurin-01:649612] shmem: mmap: an error occurred while determining whether or not /tmp/ompi.lap-mathurin-01.1000/jf.0/123076608/shared_mem_cuda_pool.lap-mathurin-01 could be created.\n",
      "[lap-mathurin-01:649612] create_and_attach: unable to create shared memory BTL coordinating structure :: size 134217728 \n"
     ]
    }
   ],
   "source": [
    "import time\n",
    "from scripts_festim2 import run_change_of_variable, run_mixed_formulation\n",
    "\n",
    "N = 50"
   ]
  },
  {
   "cell_type": "code",
   "execution_count": 2,
   "metadata": {},
   "outputs": [
    {
     "name": "stderr",
     "output_type": "stream",
     "text": [
      "Solving HydrogenTransportProblemDiscontinuousChangeVar: 100%|██████████| 10.0/10.0 [00:00<00:00, 61.0it/s]\n",
      "Solving HydrogenTransportProblemDiscontinuousChangeVar: 100%|██████████| 10.0/10.0 [00:00<00:00, 110it/s]\n",
      "Solving HydrogenTransportProblemDiscontinuousChangeVar: 100%|██████████| 10.0/10.0 [00:00<00:00, 49.0it/s]\n",
      "Solving HydrogenTransportProblemDiscontinuousChangeVar: 100%|██████████| 10.0/10.0 [00:00<00:00, 33.6it/s]\n",
      "Solving HydrogenTransportProblemDiscontinuousChangeVar: 100%|██████████| 10.0/10.0 [00:00<00:00, 85.4it/s]\n",
      "Solving HydrogenTransportProblemDiscontinuousChangeVar: 100%|██████████| 10.0/10.0 [00:00<00:00, 88.7it/s]\n",
      "Solving HydrogenTransportProblemDiscontinuousChangeVar: 100%|██████████| 10.0/10.0 [00:00<00:00, 91.3it/s]\n",
      "Solving HydrogenTransportProblemDiscontinuousChangeVar: 100%|██████████| 10.0/10.0 [00:00<00:00, 111it/s]\n",
      "Solving HydrogenTransportProblemDiscontinuousChangeVar: 100%|██████████| 10.0/10.0 [00:00<00:00, 42.3it/s]\n",
      "Solving HydrogenTransportProblemDiscontinuousChangeVar: 100%|██████████| 10.0/10.0 [00:00<00:00, 54.6it/s]\n",
      "Solving HydrogenTransportProblemDiscontinuousChangeVar: 100%|██████████| 10.0/10.0 [00:00<00:00, 96.1it/s]\n",
      "Solving HydrogenTransportProblemDiscontinuousChangeVar: 100%|██████████| 10.0/10.0 [00:00<00:00, 111it/s]\n",
      "Solving HydrogenTransportProblemDiscontinuousChangeVar: 100%|██████████| 10.0/10.0 [00:00<00:00, 81.1it/s]\n",
      "Solving HydrogenTransportProblemDiscontinuousChangeVar: 100%|██████████| 10.0/10.0 [00:00<00:00, 112it/s]\n",
      "Solving HydrogenTransportProblemDiscontinuousChangeVar: 100%|██████████| 10.0/10.0 [00:00<00:00, 29.6it/s]\n",
      "Solving HydrogenTransportProblemDiscontinuousChangeVar: 100%|██████████| 10.0/10.0 [00:00<00:00, 86.3it/s]\n",
      "Solving HydrogenTransportProblemDiscontinuousChangeVar: 100%|██████████| 10.0/10.0 [00:00<00:00, 110it/s]\n",
      "Solving HydrogenTransportProblemDiscontinuousChangeVar: 100%|██████████| 10.0/10.0 [00:00<00:00, 102it/s]\n",
      "Solving HydrogenTransportProblemDiscontinuousChangeVar: 100%|██████████| 10.0/10.0 [00:00<00:00, 111it/s]\n",
      "Solving HydrogenTransportProblemDiscontinuousChangeVar: 100%|██████████| 10.0/10.0 [00:00<00:00, 45.7it/s]\n",
      "Solving HydrogenTransportProblemDiscontinuousChangeVar: 100%|██████████| 10.0/10.0 [00:00<00:00, 61.0it/s]\n",
      "Solving HydrogenTransportProblemDiscontinuousChangeVar: 100%|██████████| 10.0/10.0 [00:00<00:00, 61.6it/s]\n",
      "Solving HydrogenTransportProblemDiscontinuousChangeVar: 100%|██████████| 10.0/10.0 [00:00<00:00, 91.8it/s]\n",
      "Solving HydrogenTransportProblemDiscontinuousChangeVar: 100%|██████████| 10.0/10.0 [00:00<00:00, 93.0it/s]\n",
      "Solving HydrogenTransportProblemDiscontinuousChangeVar: 100%|██████████| 10.0/10.0 [00:00<00:00, 107it/s]\n",
      "Solving HydrogenTransportProblemDiscontinuousChangeVar: 100%|██████████| 10.0/10.0 [00:00<00:00, 30.3it/s]\n",
      "Solving HydrogenTransportProblemDiscontinuousChangeVar: 100%|██████████| 10.0/10.0 [00:00<00:00, 95.6it/s]\n",
      "Solving HydrogenTransportProblemDiscontinuousChangeVar: 100%|██████████| 10.0/10.0 [00:00<00:00, 114it/s]\n",
      "Solving HydrogenTransportProblemDiscontinuousChangeVar: 100%|██████████| 10.0/10.0 [00:00<00:00, 84.7it/s]\n",
      "Solving HydrogenTransportProblemDiscontinuousChangeVar: 100%|██████████| 10.0/10.0 [00:00<00:00, 121it/s]\n",
      "Solving HydrogenTransportProblemDiscontinuousChangeVar: 100%|██████████| 10.0/10.0 [00:00<00:00, 37.8it/s]\n",
      "Solving HydrogenTransportProblemDiscontinuousChangeVar: 100%|██████████| 10.0/10.0 [00:00<00:00, 85.0it/s]\n",
      "Solving HydrogenTransportProblemDiscontinuousChangeVar: 100%|██████████| 10.0/10.0 [00:00<00:00, 102it/s]\n",
      "Solving HydrogenTransportProblemDiscontinuousChangeVar: 100%|██████████| 10.0/10.0 [00:00<00:00, 108it/s]\n",
      "Solving HydrogenTransportProblemDiscontinuousChangeVar: 100%|██████████| 10.0/10.0 [00:00<00:00, 82.7it/s]\n",
      "Solving HydrogenTransportProblemDiscontinuousChangeVar: 100%|██████████| 10.0/10.0 [00:00<00:00, 111it/s]\n",
      "Solving HydrogenTransportProblemDiscontinuousChangeVar: 100%|██████████| 10.0/10.0 [00:00<00:00, 31.6it/s]\n",
      "Solving HydrogenTransportProblemDiscontinuousChangeVar: 100%|██████████| 10.0/10.0 [00:00<00:00, 63.0it/s]\n",
      "Solving HydrogenTransportProblemDiscontinuousChangeVar: 100%|██████████| 10.0/10.0 [00:00<00:00, 55.3it/s]\n",
      "Solving HydrogenTransportProblemDiscontinuousChangeVar: 100%|██████████| 10.0/10.0 [00:00<00:00, 107it/s]\n",
      "Solving HydrogenTransportProblemDiscontinuousChangeVar: 100%|██████████| 10.0/10.0 [00:00<00:00, 58.2it/s]\n",
      "Solving HydrogenTransportProblemDiscontinuousChangeVar: 100%|██████████| 10.0/10.0 [00:01<00:00, 7.69it/s]\n",
      "Solving HydrogenTransportProblemDiscontinuousChangeVar: 100%|██████████| 10.0/10.0 [00:00<00:00, 85.1it/s]\n",
      "Solving HydrogenTransportProblemDiscontinuousChangeVar: 100%|██████████| 10.0/10.0 [00:00<00:00, 87.2it/s]\n",
      "Solving HydrogenTransportProblemDiscontinuousChangeVar: 100%|██████████| 10.0/10.0 [00:00<00:00, 113it/s]\n",
      "Solving HydrogenTransportProblemDiscontinuousChangeVar: 100%|██████████| 10.0/10.0 [00:00<00:00, 52.4it/s]\n",
      "Solving HydrogenTransportProblemDiscontinuousChangeVar: 100%|██████████| 10.0/10.0 [00:00<00:00, 59.1it/s]\n",
      "Solving HydrogenTransportProblemDiscontinuousChangeVar: 100%|██████████| 10.0/10.0 [00:00<00:00, 68.2it/s]\n",
      "Solving HydrogenTransportProblemDiscontinuousChangeVar: 100%|██████████| 10.0/10.0 [00:00<00:00, 37.4it/s]\n",
      "Solving HydrogenTransportProblemDiscontinuousChangeVar: 100%|██████████| 10.0/10.0 [00:00<00:00, 47.3it/s]\n"
     ]
    }
   ],
   "source": [
    "start = time.perf_counter()\n",
    "for _ in range(N):\n",
    "    run_change_of_variable()\n",
    "end = time.perf_counter()\n",
    "\n",
    "elapsed_time_change_of_var = (end - start)/N"
   ]
  },
  {
   "cell_type": "code",
   "execution_count": 3,
   "metadata": {},
   "outputs": [
    {
     "name": "stderr",
     "output_type": "stream",
     "text": [
      "Solving HTransportProblemDiscontinuous: 100%|██████████| 10.0/10.0 [00:00<00:00, 56.4it/s]\n",
      "Solving HTransportProblemDiscontinuous: 100%|██████████| 10.0/10.0 [00:00<00:00, 43.9it/s]\n",
      "Solving HTransportProblemDiscontinuous: 100%|██████████| 10.0/10.0 [00:00<00:00, 28.4it/s]\n",
      "Solving HTransportProblemDiscontinuous: 100%|██████████| 10.0/10.0 [00:00<00:00, 42.2it/s]\n",
      "Solving HTransportProblemDiscontinuous: 100%|██████████| 10.0/10.0 [00:00<00:00, 41.2it/s]\n",
      "Solving HTransportProblemDiscontinuous: 100%|██████████| 10.0/10.0 [00:00<00:00, 35.9it/s]\n",
      "Solving HTransportProblemDiscontinuous: 100%|██████████| 10.0/10.0 [00:00<00:00, 14.4it/s]\n",
      "Solving HTransportProblemDiscontinuous: 100%|██████████| 10.0/10.0 [00:00<00:00, 14.7it/s]\n",
      "Solving HTransportProblemDiscontinuous: 100%|██████████| 10.0/10.0 [00:00<00:00, 26.4it/s]\n",
      "Solving HTransportProblemDiscontinuous: 100%|██████████| 10.0/10.0 [00:00<00:00, 42.7it/s]\n",
      "Solving HTransportProblemDiscontinuous: 100%|██████████| 10.0/10.0 [00:00<00:00, 28.3it/s]\n",
      "Solving HTransportProblemDiscontinuous: 100%|██████████| 10.0/10.0 [00:00<00:00, 10.8it/s]\n",
      "Solving HTransportProblemDiscontinuous: 100%|██████████| 10.0/10.0 [00:02<00:00, 4.09it/s]\n",
      "Solving HTransportProblemDiscontinuous: 100%|██████████| 10.0/10.0 [00:00<00:00, 26.0it/s]\n",
      "Solving HTransportProblemDiscontinuous: 100%|██████████| 10.0/10.0 [00:00<00:00, 24.0it/s]\n",
      "Solving HTransportProblemDiscontinuous: 100%|██████████| 10.0/10.0 [00:00<00:00, 32.0it/s]\n",
      "Solving HTransportProblemDiscontinuous: 100%|██████████| 10.0/10.0 [00:00<00:00, 52.7it/s]\n",
      "Solving HTransportProblemDiscontinuous: 100%|██████████| 10.0/10.0 [00:00<00:00, 20.8it/s]\n",
      "Solving HTransportProblemDiscontinuous: 100%|██████████| 10.0/10.0 [00:00<00:00, 19.4it/s]\n",
      "Solving HTransportProblemDiscontinuous: 100%|██████████| 10.0/10.0 [00:00<00:00, 31.1it/s]\n",
      "Solving HTransportProblemDiscontinuous: 100%|██████████| 10.0/10.0 [00:00<00:00, 40.3it/s]\n",
      "Solving HTransportProblemDiscontinuous: 100%|██████████| 10.0/10.0 [00:00<00:00, 22.2it/s]\n",
      "Solving HTransportProblemDiscontinuous: 100%|██████████| 10.0/10.0 [00:00<00:00, 26.4it/s]\n",
      "Solving HTransportProblemDiscontinuous: 100%|██████████| 10.0/10.0 [00:00<00:00, 27.3it/s]\n",
      "Solving HTransportProblemDiscontinuous: 100%|██████████| 10.0/10.0 [00:00<00:00, 51.1it/s]\n",
      "Solving HTransportProblemDiscontinuous: 100%|██████████| 10.0/10.0 [00:00<00:00, 27.1it/s]\n",
      "Solving HTransportProblemDiscontinuous: 100%|██████████| 10.0/10.0 [00:00<00:00, 58.8it/s]\n",
      "Solving HTransportProblemDiscontinuous: 100%|██████████| 10.0/10.0 [00:00<00:00, 34.5it/s]\n",
      "Solving HTransportProblemDiscontinuous: 100%|██████████| 10.0/10.0 [00:00<00:00, 20.3it/s]\n",
      "Solving HTransportProblemDiscontinuous: 100%|██████████| 10.0/10.0 [00:00<00:00, 34.2it/s]\n",
      "Solving HTransportProblemDiscontinuous: 100%|██████████| 10.0/10.0 [00:00<00:00, 13.7it/s]\n",
      "Solving HTransportProblemDiscontinuous: 100%|██████████| 10.0/10.0 [00:00<00:00, 20.6it/s]\n",
      "Solving HTransportProblemDiscontinuous: 100%|██████████| 10.0/10.0 [00:00<00:00, 54.8it/s]\n",
      "Solving HTransportProblemDiscontinuous: 100%|██████████| 10.0/10.0 [00:00<00:00, 26.6it/s]\n",
      "Solving HTransportProblemDiscontinuous: 100%|██████████| 10.0/10.0 [00:00<00:00, 20.2it/s]\n",
      "Solving HTransportProblemDiscontinuous: 100%|██████████| 10.0/10.0 [00:00<00:00, 25.5it/s]\n",
      "Solving HTransportProblemDiscontinuous: 100%|██████████| 10.0/10.0 [00:00<00:00, 40.1it/s]\n",
      "Solving HTransportProblemDiscontinuous: 100%|██████████| 10.0/10.0 [00:00<00:00, 28.2it/s]\n",
      "Solving HTransportProblemDiscontinuous: 100%|██████████| 10.0/10.0 [00:00<00:00, 25.9it/s]\n",
      "Solving HTransportProblemDiscontinuous: 100%|██████████| 10.0/10.0 [00:00<00:00, 34.9it/s]\n",
      "Solving HTransportProblemDiscontinuous: 100%|██████████| 10.0/10.0 [00:00<00:00, 42.3it/s]\n",
      "Solving HTransportProblemDiscontinuous: 100%|██████████| 10.0/10.0 [00:00<00:00, 37.2it/s]\n",
      "Solving HTransportProblemDiscontinuous: 100%|██████████| 10.0/10.0 [00:00<00:00, 12.7it/s]\n",
      "Solving HTransportProblemDiscontinuous: 100%|██████████| 10.0/10.0 [00:00<00:00, 20.9it/s]\n",
      "Solving HTransportProblemDiscontinuous: 100%|██████████| 10.0/10.0 [00:00<00:00, 12.2it/s]\n",
      "Solving HTransportProblemDiscontinuous: 100%|██████████| 10.0/10.0 [00:00<00:00, 19.8it/s]\n",
      "Solving HTransportProblemDiscontinuous: 100%|██████████| 10.0/10.0 [00:00<00:00, 32.3it/s]\n",
      "Solving HTransportProblemDiscontinuous: 100%|██████████| 10.0/10.0 [00:00<00:00, 48.8it/s]\n",
      "Solving HTransportProblemDiscontinuous: 100%|██████████| 10.0/10.0 [00:00<00:00, 26.8it/s]\n",
      "Solving HTransportProblemDiscontinuous: 100%|██████████| 10.0/10.0 [00:00<00:00, 20.9it/s]\n"
     ]
    }
   ],
   "source": [
    "start = time.perf_counter()\n",
    "for _ in range(N):\n",
    "    run_mixed_formulation()\n",
    "end = time.perf_counter()\n",
    "\n",
    "elapsed_time_mixed = (end - start)/N"
   ]
  },
  {
   "cell_type": "code",
   "execution_count": 4,
   "metadata": {},
   "outputs": [
    {
     "name": "stdout",
     "output_type": "stream",
     "text": [
      "Elapsed time change of variable: 0.2164687321599922\n",
      "Elapsed time mixed formulation: 0.5579010832800122\n"
     ]
    }
   ],
   "source": [
    "print(f\"Elapsed time change of variable: {elapsed_time_change_of_var}\")\n",
    "print(f\"Elapsed time mixed formulation: {elapsed_time_mixed}\")"
   ]
  },
  {
   "cell_type": "code",
   "execution_count": 5,
   "metadata": {},
   "outputs": [
    {
     "data": {
      "image/png": "[encoded data removed]",
      "text/plain": [
       "<Figure size 640x480 with 1 Axes>"
      ]
     },
     "metadata": {},
     "output_type": "display_data"
    }
   ],
   "source": [
    "import matplotlib.pyplot as plt\n",
    "\n",
    "# make bar plot\n",
    "fig, ax = plt.subplots()\n",
    "ax.bar([\"change of variable\", \"mixed formulation\"], [elapsed_time_change_of_var, elapsed_time_mixed])\n",
    "ax.set_ylabel(\"Elapsed time (s)\")\n",
    "plt.show()"
   ]
  }
 ],
 "metadata": {
  "kernelspec": {
   "display_name": "festim-benchmark-env",
   "language": "python",
   "name": "python3"
  },
  "language_info": {
   "codemirror_mode": {
    "name": "ipython",
    "version": 3
   },
   "file_extension": ".py",
   "mimetype": "text/x-python",
   "name": "python",
   "nbconvert_exporter": "python",
   "pygments_lexer": "ipython3",
   "version": "3.10.15"
  }
 },
 "nbformat": 4,
 "nbformat_minor": 2
}

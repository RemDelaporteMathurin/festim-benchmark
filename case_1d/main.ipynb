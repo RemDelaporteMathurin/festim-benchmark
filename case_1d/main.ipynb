{
 "cells": [
  {
   "cell_type": "code",
   "execution_count": 1,
   "metadata": {},
   "outputs": [
    {
     "name": "stderr",
     "output_type": "stream",
     "text": [
      "[lap-mathurin-01:1399358] shmem: mmap: an error occurred while determining whether or not /tmp/ompi.lap-mathurin-01.1000/jf.0/1104347136/shared_mem_cuda_pool.lap-mathurin-01 could be created.\n",
      "[lap-mathurin-01:1399358] create_and_attach: unable to create shared memory BTL coordinating structure :: size 134217728 \n"
     ]
    }
   ],
   "source": [
    "import time\n",
    "from scripts_festim2 import run_change_of_variable, run_mixed_formulation\n",
    "\n",
    "N = 2"
   ]
  },
  {
   "cell_type": "code",
   "execution_count": 2,
   "metadata": {},
   "outputs": [],
   "source": [
    "start = time.perf_counter()\n",
    "for _ in range(N):\n",
    "    run_change_of_variable()\n",
    "end = time.perf_counter()\n",
    "\n",
    "elapsed_time_change_of_var = (end - start)/N"
   ]
  },
  {
   "cell_type": "code",
   "execution_count": 3,
   "metadata": {},
   "outputs": [],
   "source": [
    "start = time.perf_counter()\n",
    "for _ in range(N):\n",
    "    run_mixed_formulation()\n",
    "end = time.perf_counter()\n",
    "\n",
    "elapsed_time_mixed = (end - start)/N"
   ]
  },
  {
   "cell_type": "code",
   "execution_count": 4,
   "metadata": {},
   "outputs": [
    {
     "name": "stdout",
     "output_type": "stream",
     "text": [
      "Elapsed time change of variable: 2.493633353500627\n",
      "Elapsed time mixed formulation: 5.168667543497577\n"
     ]
    }
   ],
   "source": [
    "print(f\"Elapsed time change of variable: {elapsed_time_change_of_var}\")\n",
    "print(f\"Elapsed time mixed formulation: {elapsed_time_mixed}\")"
   ]
  },
  {
   "cell_type": "code",
   "execution_count": 5,
   "metadata": {},
   "outputs": [
    {
     "data": {
      "image/png": "[encoded data removed]",
      "text/plain": [
       "<Figure size 640x480 with 1 Axes>"
      ]
     },
     "metadata": {},
     "output_type": "display_data"
    }
   ],
   "source": [
    "import matplotlib.pyplot as plt\n",
    "\n",
    "# make bar plot\n",
    "fig, ax = plt.subplots()\n",
    "ax.bar([\"change of variable\", \"mixed formulation\"], [elapsed_time_change_of_var, elapsed_time_mixed])\n",
    "ax.set_ylabel(\"Elapsed time (s)\")\n",
    "plt.show()"
   ]
  }
 ],
 "metadata": {
  "kernelspec": {
   "display_name": "festim-benchmark-env",
   "language": "python",
   "name": "python3"
  },
  "language_info": {
   "codemirror_mode": {
    "name": "ipython",
    "version": 3
   },
   "file_extension": ".py",
   "mimetype": "text/x-python",
   "name": "python",
   "nbconvert_exporter": "python",
   "pygments_lexer": "ipython3",
   "version": "3.10.15"
  }
 },
 "nbformat": 4,
 "nbformat_minor": 2
}

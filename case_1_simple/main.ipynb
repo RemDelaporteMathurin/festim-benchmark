{
 "cells": [
  {
   "cell_type": "markdown",
   "metadata": {},
   "source": [
    "## Generate the mesh"
   ]
  },
  {
   "cell_type": "code",
   "execution_count": null,
   "metadata": {},
   "outputs": [],
   "source": [
    "from mesh import three_cubes\n",
    "\n",
    "size = 0.05\n",
    "filename = f\"meshes/mesh_{size}.msh\"\n",
    "\n",
    "three_cubes(filename, size=size)"
   ]
  },
  {
   "cell_type": "code",
   "execution_count": null,
   "metadata": {},
   "outputs": [],
   "source": [
    "from convert_mesh import convert_mesh\n",
    "from pathlib import Path\n",
    "\n",
    "volume_file = f\"meshes/mesh_{size}.xdmf\"\n",
    "facet_file = f\"meshes/mesh_{size}_facet.xdmf\"\n",
    "\n",
    "print(filename, volume_file, facet_file)\n",
    "nb_cells, nb_facets = convert_mesh(filename, volume_file, facet_file)\n"
   ]
  },
  {
   "cell_type": "code",
   "execution_count": 3,
   "metadata": {},
   "outputs": [],
   "source": [
    "def run(volume_file: str, facet_file: str) -> float:\n",
    "    from script_festim_2 import run_festim_2\n",
    "    import time\n",
    "\n",
    "    start = time.perf_counter()\n",
    "    run_festim_2(volume_file, facet_file)\n",
    "    end = time.perf_counter()\n",
    "\n",
    "    elapsed_time = end - start\n",
    "\n",
    "\n",
    "    return elapsed_time\n"
   ]
  },
  {
   "cell_type": "code",
   "execution_count": null,
   "metadata": {},
   "outputs": [],
   "source": [
    "import ipyparallel as ipp\n",
    "import numpy as np\n",
    "\n",
    "# check if we are in github actions\n",
    "import os\n",
    "# if \"CI\" in os.environ:\n",
    "#     num_procs = [1, 2, 4]\n",
    "# else:\n",
    "#num_procs = [1, 2, 4, 8, 16]\n",
    "num_procs = [3, 8]\n",
    "runtimes = np.zeros_like(num_procs, dtype=np.float64)\n",
    "\n",
    "for i, num_proc in enumerate(num_procs):\n",
    "    print(f\"Running with {num_proc} processes\")\n",
    "\n",
    "\n",
    "    # start an ipyparallel cluster and connect to it\n",
    "    cluster = ipp.Cluster(engines=\"mpi\", n=num_proc)\n",
    "    rc = cluster.start_and_connect_sync()\n",
    "\n",
    "    # run the function run in parallel\n",
    "    query = rc[:].apply_async(run, volume_file, facet_file)\n",
    "    query.wait()\n",
    "\n",
    "    # get the results for all processes\n",
    "    elapsed_times = query.get()\n",
    "    print(elapsed_times)\n",
    "    rc.cluster.stop_cluster_sync()\n",
    "    cluster.stop_cluster()\n",
    "\n",
    "    runtime = np.max(elapsed_times)\n",
    "    print(f\"Elapsed times: {elapsed_times} seconds, max {runtime=:.2e}\")\n",
    "\n",
    "    runtimes[i] = runtime"
   ]
  },
  {
   "cell_type": "code",
   "execution_count": null,
   "metadata": {},
   "outputs": [],
   "source": [
    "import matplotlib.pyplot as plt\n",
    "from festim import __version__\n",
    "\n",
    "plt.plot(num_procs, runtimes, marker=\"o\", label=f\"FESTIM dev\")\n",
    "\n",
    "n = np.linspace(1, 16, 100)\n",
    "plt.plot(n, runtimes[0] * n**-2, linestyle=\"--\", label=\"$n^{-2}$ (perfect scaling)\")\n",
    "\n",
    "plt.xlabel(\"Number of processes $n$\")\n",
    "plt.ylabel(\"Runtime (s)\")\n",
    "\n",
    "plt.xscale(\"log\")\n",
    "plt.yscale(\"log\")\n",
    "\n",
    "# check that runtimes_festim_1.csv exists and plot the results\n",
    "try:\n",
    "    import pandas as pd\n",
    "    data = pd.read_csv(\"runtimes_festim_1.csv\")\n",
    "    plt.plot(data[\"num_procs\"], data[\"runtimes\"], marker=\"o\", label=\"FESTIM v1.3.1\")\n",
    "except FileNotFoundError:\n",
    "    print(\"File runtimes_festim_1.csv not found\")\n",
    "\n",
    "plt.legend()\n",
    "plt.show()"
   ]
  },
  {
   "cell_type": "code",
   "execution_count": null,
   "metadata": {},
   "outputs": [],
   "source": [
    "speedup = runtimes[0] / runtimes\n",
    "\n",
    "plt.plot(num_procs, speedup, marker=\"o\", label=f\"FESTIM-dev\")\n",
    "# ideal speedup\n",
    "plt.plot(n, n, linestyle=\"--\", label=\"Ideal speedup\")\n",
    "\n",
    "\n",
    "try:\n",
    "    import pandas as pd\n",
    "    data = pd.read_csv(\"runtimes_festim_1.csv\")\n",
    "    speedup = data[\"runtimes\"][0] / data[\"runtimes\"]\n",
    "    plt.plot(data[\"num_procs\"], speedup, marker=\"o\", label=\"FESTIM v1.3.1\")\n",
    "except FileNotFoundError:\n",
    "    print(\"File runtimes_festim_1.csv not found\")\n",
    "\n",
    "plt.xscale(\"log\")\n",
    "plt.yscale(\"log\")\n",
    "plt.xlabel(\"Number of processes $n$\")\n",
    "plt.ylabel(\"Speedup\")\n",
    "\n",
    "# horizontal line at 1\n",
    "plt.axhline(1, color=\"tab:grey\", linestyle=\"--\")\n",
    "\n",
    "plt.legend()\n",
    "plt.show()"
   ]
  }
 ],
 "metadata": {
  "kernelspec": {
   "display_name": "dolfinx-env",
   "language": "python",
   "name": "python3"
  },
  "language_info": {
   "codemirror_mode": {
    "name": "ipython",
    "version": 3
   },
   "file_extension": ".py",
   "mimetype": "text/x-python",
   "name": "python",
   "nbconvert_exporter": "python",
   "pygments_lexer": "ipython3",
   "version": "3.12.3"
  }
 },
 "nbformat": 4,
 "nbformat_minor": 2
}
